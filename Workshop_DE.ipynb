{
 "cells": [
  {
   "cell_type": "markdown",
   "id": "c2217a08",
   "metadata": {},
   "source": [
    "# Utilizando o OCI Dataflow Studio"
   ]
  },
  {
   "cell_type": "markdown",
   "id": "f606159d",
   "metadata": {},
   "source": [
    "### OCI Data Science - Useful Tips\n",
    "<details>\n",
    "<summary><font size=\"2\">Check for Public Internet Access</font></summary>\n",
    "\n",
    "```python\n",
    "import requests\n",
    "response = requests.get(\"https://oracle.com\")\n",
    "assert response.status_code==200, \"Internet connection failed\"\n",
    "```\n",
    "</details>\n",
    "<details>\n",
    "<summary><font size=\"2\">Helpful Documentation </font></summary>\n",
    "<ul><li><a href=\"https://docs.cloud.oracle.com/en-us/iaas/data-science/using/data-science.htm\">Data Science Service Documentation</a></li>\n",
    "<li><a href=\"https://docs.cloud.oracle.com/iaas/tools/ads-sdk/latest/index.html\">ADS documentation</a></li>\n",
    "</ul>\n",
    "</details>\n",
    "<details>\n",
    "<summary><font size=\"2\">Typical Cell Imports and Settings for ADS</font></summary>\n",
    "\n",
    "```python\n",
    "%load_ext autoreload\n",
    "%autoreload 2\n",
    "%matplotlib inline\n",
    "\n",
    "import warnings\n",
    "warnings.filterwarnings('ignore')\n",
    "\n",
    "import logging\n",
    "logging.basicConfig(format='%(levelname)s:%(message)s', level=logging.ERROR)\n",
    "\n",
    "import ads\n",
    "from ads.dataset.factory import DatasetFactory\n",
    "from ads.automl.provider import OracleAutoMLProvider\n",
    "from ads.automl.driver import AutoML\n",
    "from ads.evaluations.evaluator import ADSEvaluator\n",
    "from ads.common.data import ADSData\n",
    "from ads.explanations.explainer import ADSExplainer\n",
    "from ads.explanations.mlx_global_explainer import MLXGlobalExplainer\n",
    "from ads.explanations.mlx_local_explainer import MLXLocalExplainer\n",
    "from ads.catalog.model import ModelCatalog\n",
    "from ads.common.model_artifact import ModelArtifact\n",
    "```\n",
    "</details>\n",
    "<details>\n",
    "<summary><font size=\"2\">Useful Environment Variables</font></summary>\n",
    "\n",
    "```python\n",
    "import os\n",
    "print(os.environ[\"NB_SESSION_COMPARTMENT_OCID\"])\n",
    "print(os.environ[\"PROJECT_OCID\"])\n",
    "print(os.environ[\"USER_OCID\"])\n",
    "print(os.environ[\"TENANCY_OCID\"])\n",
    "print(os.environ[\"NB_REGION\"])\n",
    "```\n",
    "</details>"
   ]
  },
  {
   "cell_type": "markdown",
   "id": "d0966ba6",
   "metadata": {},
   "source": [
    "#### Conectando ao Dataflow Studio"
   ]
  },
  {
   "cell_type": "code",
   "execution_count": null,
   "id": "5b6b3288",
   "metadata": {},
   "outputs": [],
   "source": [
    "# importando a biblioteca ADS e realizando a autenticação\n",
    "import ads\n",
    "\n",
    "ads.set_auth(\"resource_principal\")"
   ]
  },
  {
   "cell_type": "code",
   "execution_count": null,
   "id": "8d7b3843",
   "metadata": {},
   "outputs": [],
   "source": [
    "%load_ext dataflow.magics"
   ]
  },
  {
   "cell_type": "code",
   "execution_count": null,
   "id": "a4b423d0",
   "metadata": {},
   "outputs": [],
   "source": [
    "%use_session -s '' -f"
   ]
  },
  {
   "cell_type": "code",
   "execution_count": null,
   "id": "f08b6893",
   "metadata": {},
   "outputs": [],
   "source": [
    "%%spark\n",
    "import os\n",
    "import pyspark\n",
    "from pyspark.sql import SparkSession\n",
    "from pyspark.sql.functions import expr\n",
    "from pyspark.sql.functions import col\n",
    "from pyspark.sql.functions import lit\n",
    "from delta import *\n",
    "from pyspark.sql.functions import *\n",
    "from datetime import datetime"
   ]
  },
  {
   "cell_type": "markdown",
   "id": "c24177cc",
   "metadata": {},
   "source": [
    "#### Interagindo com arquivos utilizando Dataflow Studio"
   ]
  },
  {
   "cell_type": "code",
   "execution_count": null,
   "id": "7c5a4467",
   "metadata": {},
   "outputs": [],
   "source": [
    "%%spark\n",
    "df_nyc_tlc = spark.read.parquet(\"oci://tlc@grkqi1ha7xky/*.parquet\", header=False, inferSchema=True)\n",
    "df_nyc_tlc.show(3)\n",
    "df_nyc_tlc.createOrReplaceTempView(\"nyc_tlc\")"
   ]
  },
  {
   "cell_type": "markdown",
   "id": "2cb66b2c",
   "metadata": {},
   "source": [
    "#### Convertendo para um pandas dataframe"
   ]
  },
  {
   "cell_type": "code",
   "execution_count": null,
   "id": "d922b1a0",
   "metadata": {},
   "outputs": [],
   "source": [
    "%%spark -c sql -o df_nyc_tlc\n",
    "SELECT vendorID, passenger_count, trip_distance, payment_type FROM nyc_tlc LIMIT 1000;"
   ]
  },
  {
   "cell_type": "code",
   "execution_count": null,
   "id": "76216e56",
   "metadata": {},
   "outputs": [],
   "source": [
    "df_nyc_tlc.head()"
   ]
  },
  {
   "cell_type": "markdown",
   "id": "3fadb7ab",
   "metadata": {},
   "source": [
    "#### Interagindo com hive metastore"
   ]
  },
  {
   "cell_type": "code",
   "execution_count": null,
   "id": "24107ddc",
   "metadata": {},
   "outputs": [],
   "source": [
    "%%spark\n",
    "spark.sql(\"CREATE DATABASE studio\")"
   ]
  },
  {
   "cell_type": "code",
   "execution_count": null,
   "id": "656e65cd",
   "metadata": {},
   "outputs": [],
   "source": [
    "%%spark \n",
    "spark.sql(\"SHOW DATABASES\").show()"
   ]
  },
  {
   "cell_type": "code",
   "execution_count": null,
   "id": "7ff31b75",
   "metadata": {},
   "outputs": [],
   "source": [
    "%%spark\n",
    "df_nyc_tlc.write.format(\"delta\").mode(\"overwrite\").saveAsTable(\"studio.tlc_table\")"
   ]
  },
  {
   "cell_type": "markdown",
   "id": "fa7debbb",
   "metadata": {},
   "source": [
    "#### Trabalhando com Delta Lake"
   ]
  },
  {
   "cell_type": "code",
   "execution_count": null,
   "id": "a2ba0fe1",
   "metadata": {},
   "outputs": [],
   "source": [
    "%%spark\n",
    "df_nyc_tlc.write.format(\"delta\").mode(\"overwrite\").save(\"oci://raw-data@<seu_namespace>/tlc_files/\")"
   ]
  },
  {
   "cell_type": "code",
   "execution_count": null,
   "id": "13c66d64",
   "metadata": {},
   "outputs": [],
   "source": [
    "%%spark\n",
    "read_delta = DeltaTable.forPath(spark, 'oci://raw-data@<seu_namespace>/tlc_files/')"
   ]
  },
  {
   "cell_type": "code",
   "execution_count": null,
   "id": "1798c440",
   "metadata": {},
   "outputs": [],
   "source": [
    "%%spark\n",
    "read_delta.delete(\"VendorID < 2\")\n",
    "read_delta.toDF().groupBy(\"VendorID\").sum(\"total_amount\").show()"
   ]
  },
  {
   "cell_type": "code",
   "execution_count": null,
   "id": "b062288c",
   "metadata": {},
   "outputs": [],
   "source": [
    "%%spark\n",
    "df = spark.read.format(\"delta\") \\\n",
    "  .option(\"versionAsOf\", 1) \\\n",
    "  .load(\"oci://raw-data@<seu_namespace>/tlc_files/\")\n",
    "\n",
    "df.groupBy(\"VendorID\").sum(\"total_amount\").show()"
   ]
  },
  {
   "cell_type": "code",
   "execution_count": null,
   "id": "bf8ec11b",
   "metadata": {},
   "outputs": [],
   "source": [
    "%%spark\n",
    "df = spark.read.format(\"delta\") \\\n",
    "  .option(\"versionAsOf\", 0) \\\n",
    "  .load(\"oci://raw-data@<seu_namespace>/tlc_files/\")\n",
    "\n",
    "df.groupBy(\"VendorID\").sum(\"total_amount\").show()"
   ]
  },
  {
   "cell_type": "code",
   "execution_count": null,
   "id": "e81364c7",
   "metadata": {},
   "outputs": [],
   "source": [
    "%%spark\n",
    "read_delta.restoreToVersion(0)\n",
    "\n",
    "spark.read.format(\"delta\").load(\"oci://raw-data@<seu_namespace>/tlc_files/\").groupBy(\"VendorID\").sum(\"total_amount\").show()"
   ]
  },
  {
   "cell_type": "code",
   "execution_count": null,
   "id": "3a9a1545",
   "metadata": {},
   "outputs": [],
   "source": [
    "%%spark\n",
    "read_delta.history().show()"
   ]
  }
 ],
 "metadata": {
  "kernelspec": {
   "display_name": "Python [conda env:pyspark32_p38_cpu_v3]",
   "language": "python",
   "name": "conda-env-pyspark32_p38_cpu_v3-py"
  },
  "language_info": {
   "codemirror_mode": {
    "name": "ipython",
    "version": 3
   },
   "file_extension": ".py",
   "mimetype": "text/x-python",
   "name": "python",
   "nbconvert_exporter": "python",
   "pygments_lexer": "ipython3",
   "version": "3.8.16"
  }
 },
 "nbformat": 4,
 "nbformat_minor": 5
}
